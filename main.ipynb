{
 "cells": [
  {
   "metadata": {
    "ExecuteTime": {
     "end_time": "2025-03-07T15:39:32.255300Z",
     "start_time": "2025-03-07T15:39:28.989045Z"
    }
   },
   "cell_type": "code",
   "source": [
    "import pandas as pd\n",
    "from gensim.models import Word2Vec\n",
    "from keras.api.preprocessing.sequence import pad_sequences\n",
    "from nltk.tokenize import sent_tokenize, word_tokenize\n",
    "from sklearn.preprocessing import LabelEncoder\n",
    "import numpy as np\n",
    "\n",
    "train_raw = pd.read_csv(\"work-data/train.csv\")\n",
    "test_raw = pd.read_csv(\"work-data/val.csv\")\n",
    "\n",
    "train_raw.head()"
   ],
   "id": "b97db381ec6886d2",
   "outputs": [
    {
     "data": {
      "text/plain": [
       "     id  label                                               text\n",
       "0  8901      5  Bennett 's naturalistic performance speaks vol...\n",
       "1  2506      5  Shot in rich , shadowy black-and-white , Devil...\n",
       "2  2381      5  More than their unique residences , Home Movie...\n",
       "3  1262      3  The movie should be credited with remembering ...\n",
       "4  2542      4  Audiences are advised to sit near the back and..."
      ],
      "text/html": [
       "<div>\n",
       "<style scoped>\n",
       "    .dataframe tbody tr th:only-of-type {\n",
       "        vertical-align: middle;\n",
       "    }\n",
       "\n",
       "    .dataframe tbody tr th {\n",
       "        vertical-align: top;\n",
       "    }\n",
       "\n",
       "    .dataframe thead th {\n",
       "        text-align: right;\n",
       "    }\n",
       "</style>\n",
       "<table border=\"1\" class=\"dataframe\">\n",
       "  <thead>\n",
       "    <tr style=\"text-align: right;\">\n",
       "      <th></th>\n",
       "      <th>id</th>\n",
       "      <th>label</th>\n",
       "      <th>text</th>\n",
       "    </tr>\n",
       "  </thead>\n",
       "  <tbody>\n",
       "    <tr>\n",
       "      <th>0</th>\n",
       "      <td>8901</td>\n",
       "      <td>5</td>\n",
       "      <td>Bennett 's naturalistic performance speaks vol...</td>\n",
       "    </tr>\n",
       "    <tr>\n",
       "      <th>1</th>\n",
       "      <td>2506</td>\n",
       "      <td>5</td>\n",
       "      <td>Shot in rich , shadowy black-and-white , Devil...</td>\n",
       "    </tr>\n",
       "    <tr>\n",
       "      <th>2</th>\n",
       "      <td>2381</td>\n",
       "      <td>5</td>\n",
       "      <td>More than their unique residences , Home Movie...</td>\n",
       "    </tr>\n",
       "    <tr>\n",
       "      <th>3</th>\n",
       "      <td>1262</td>\n",
       "      <td>3</td>\n",
       "      <td>The movie should be credited with remembering ...</td>\n",
       "    </tr>\n",
       "    <tr>\n",
       "      <th>4</th>\n",
       "      <td>2542</td>\n",
       "      <td>4</td>\n",
       "      <td>Audiences are advised to sit near the back and...</td>\n",
       "    </tr>\n",
       "  </tbody>\n",
       "</table>\n",
       "</div>"
      ]
     },
     "execution_count": 1,
     "metadata": {},
     "output_type": "execute_result"
    }
   ],
   "execution_count": 1
  },
  {
   "metadata": {
    "ExecuteTime": {
     "end_time": "2025-03-07T15:39:32.274620Z",
     "start_time": "2025-03-07T15:39:32.272970Z"
    }
   },
   "cell_type": "code",
   "source": [
    "def tokenize_text(text):\n",
    "    return [\n",
    "        [word.lower() for word in word_tokenize(sentence)] for sentence in sent_tokenize(text)\n",
    "    ]"
   ],
   "id": "87688cfa42f06983",
   "outputs": [],
   "execution_count": 2
  },
  {
   "metadata": {
    "ExecuteTime": {
     "end_time": "2025-03-07T15:39:32.586222Z",
     "start_time": "2025-03-07T15:39:32.286063Z"
    }
   },
   "cell_type": "code",
   "source": [
    "train = train_raw.copy()\n",
    "test = test_raw.copy()\n",
    "\n",
    "tokenized_train = [sent for item in train['text'].apply(tokenize_text) for sent in item]\n",
    "tokenized_test = [sent for item in test['text'].apply(tokenize_text) for sent in item]"
   ],
   "id": "d6cafc69257a6f8f",
   "outputs": [],
   "execution_count": 3
  },
  {
   "metadata": {
    "ExecuteTime": {
     "end_time": "2025-03-07T15:39:32.775866Z",
     "start_time": "2025-03-07T15:39:32.599510Z"
    }
   },
   "cell_type": "code",
   "source": [
    "word2vec = Word2Vec(sentences=tokenized_train, vector_size=100, window=7, min_count=3, workers=4)\n",
    "word_index = {word: i + 1 for i, word in enumerate(word2vec.wv.index_to_key)}\n",
    "\n",
    "# word_index"
   ],
   "id": "a58a21fb8e86ae57",
   "outputs": [],
   "execution_count": 4
  },
  {
   "metadata": {
    "ExecuteTime": {
     "end_time": "2025-03-07T15:39:33.074465Z",
     "start_time": "2025-03-07T15:39:32.779455Z"
    }
   },
   "cell_type": "code",
   "source": [
    "def text_to_seq(text, word_index):\n",
    "    return [word_index[word] for word in word_tokenize(text.lower()) if word in word_index]\n",
    "\n",
    "X_train_seq = [text_to_seq(text, word_index) for text in train['text']]\n",
    "X_val_seq = [text_to_seq(text, word_index) for text in test['text']]\n",
    "\n",
    "max_len = max([len(seq) for seq in X_train_seq + X_val_seq])\n",
    "\n",
    "X_train_padded = pad_sequences(X_train_seq, maxlen=max_len, padding='post')\n",
    "X_val_padded = pad_sequences(X_val_seq, maxlen=max_len, padding='post')\n",
    "\n",
    "label_encoder = LabelEncoder()\n",
    "\n",
    "y_train = label_encoder.fit_transform(train['label'])\n",
    "y_val = label_encoder.transform(test['label'])\n"
   ],
   "id": "aae94fdcfd52c036",
   "outputs": [],
   "execution_count": 5
  },
  {
   "metadata": {
    "ExecuteTime": {
     "end_time": "2025-03-07T15:39:33.126897Z",
     "start_time": "2025-03-07T15:39:33.120957Z"
    }
   },
   "cell_type": "code",
   "source": [
    "#Embedding Matrix\n",
    "\n",
    "embedding_matrix = np.zeros((len(word_index) + 1, 100))\n",
    "\n",
    "for word, i in word_index.items():\n",
    "    if word in word2vec.wv:\n",
    "        embedding_matrix[i] = word2vec.wv[word]\n",
    "\n",
    "embedding_matrix\n"
   ],
   "id": "21cfb790fec4f397",
   "outputs": [
    {
     "data": {
      "text/plain": [
       "array([[ 0.00000000e+00,  0.00000000e+00,  0.00000000e+00, ...,\n",
       "         0.00000000e+00,  0.00000000e+00,  0.00000000e+00],\n",
       "       [-2.41384864e-01,  8.61281514e-01,  2.59404778e-02, ...,\n",
       "        -6.78646982e-01,  1.19367391e-01, -2.81263739e-01],\n",
       "       [-3.61637115e-01,  1.10781515e+00,  2.35326774e-02, ...,\n",
       "        -6.40042782e-01,  7.08586350e-02, -4.10629272e-01],\n",
       "       ...,\n",
       "       [-1.18783815e-02,  9.22933780e-03,  7.44628767e-03, ...,\n",
       "        -1.42964004e-02,  4.43949457e-03,  4.57164831e-03],\n",
       "       [-9.99800512e-04,  1.49956141e-02, -1.55561802e-03, ...,\n",
       "        -4.05468792e-03,  9.78338998e-03, -7.83201866e-03],\n",
       "       [-1.35418391e-02,  2.01124698e-02, -1.20921899e-03, ...,\n",
       "        -1.71665810e-02, -6.76015019e-03,  2.71065277e-03]])"
      ]
     },
     "execution_count": 6,
     "metadata": {},
     "output_type": "execute_result"
    }
   ],
   "execution_count": 6
  },
  {
   "metadata": {
    "ExecuteTime": {
     "end_time": "2025-03-07T15:39:33.268315Z",
     "start_time": "2025-03-07T15:39:33.133927Z"
    }
   },
   "cell_type": "code",
   "source": [
    "from keras import Sequential\n",
    "from keras.api.layers import Embedding, LSTM, Dense, Dropout, Bidirectional\n",
    "from keras.api.callbacks import EarlyStopping\n",
    "from keras.api.optimizers import Adam\n",
    "\n",
    "model = Sequential([\n",
    "    Embedding(input_dim=len(word_index) + 1, output_dim=100, weights=[embedding_matrix], trainable=True),\n",
    "    Bidirectional(LSTM(128, return_sequences=True)),\n",
    "    Dropout(0.3),\n",
    "    Bidirectional(LSTM(64)),\n",
    "    Dropout(0.3),\n",
    "    Dense(32, activation='relu'),\n",
    "    Dense(5, activation='softmax')\n",
    "])\n",
    "adam = Adam(learning_rate=0.0002)\n",
    "model.compile(optimizer=adam, loss='sparse_categorical_crossentropy', metrics=['accuracy'])\n",
    "\n",
    "model.summary()"
   ],
   "id": "207024412e192d7a",
   "outputs": [
    {
     "name": "stderr",
     "output_type": "stream",
     "text": [
      "2025-03-07 22:39:33.140475: I metal_plugin/src/device/metal_device.cc:1154] Metal device set to: Apple M4 Pro\n",
      "2025-03-07 22:39:33.140615: I metal_plugin/src/device/metal_device.cc:296] systemMemory: 24.00 GB\n",
      "2025-03-07 22:39:33.140620: I metal_plugin/src/device/metal_device.cc:313] maxCacheSize: 8.00 GB\n",
      "WARNING: All log messages before absl::InitializeLog() is called are written to STDERR\n",
      "I0000 00:00:1741361973.140987  140256 pluggable_device_factory.cc:305] Could not identify NUMA node of platform GPU ID 0, defaulting to 0. Your kernel may not have been built with NUMA support.\n",
      "I0000 00:00:1741361973.141152  140256 pluggable_device_factory.cc:271] Created TensorFlow device (/job:localhost/replica:0/task:0/device:GPU:0 with 0 MB memory) -> physical PluggableDevice (device: 0, name: METAL, pci bus id: <undefined>)\n"
     ]
    },
    {
     "data": {
      "text/plain": [
       "\u001B[1mModel: \"sequential\"\u001B[0m\n"
      ],
      "text/html": [
       "<pre style=\"white-space:pre;overflow-x:auto;line-height:normal;font-family:Menlo,'DejaVu Sans Mono',consolas,'Courier New',monospace\"><span style=\"font-weight: bold\">Model: \"sequential\"</span>\n",
       "</pre>\n"
      ]
     },
     "metadata": {},
     "output_type": "display_data"
    },
    {
     "data": {
      "text/plain": [
       "┏━━━━━━━━━━━━━━━━━━━━━━━━━━━━━━━━━┳━━━━━━━━━━━━━━━━━━━━━━━━┳━━━━━━━━━━━━━━━┓\n",
       "┃\u001B[1m \u001B[0m\u001B[1mLayer (type)                   \u001B[0m\u001B[1m \u001B[0m┃\u001B[1m \u001B[0m\u001B[1mOutput Shape          \u001B[0m\u001B[1m \u001B[0m┃\u001B[1m \u001B[0m\u001B[1m      Param #\u001B[0m\u001B[1m \u001B[0m┃\n",
       "┡━━━━━━━━━━━━━━━━━━━━━━━━━━━━━━━━━╇━━━━━━━━━━━━━━━━━━━━━━━━╇━━━━━━━━━━━━━━━┩\n",
       "│ embedding (\u001B[38;5;33mEmbedding\u001B[0m)           │ ?                      │       \u001B[38;5;34m552,000\u001B[0m │\n",
       "├─────────────────────────────────┼────────────────────────┼───────────────┤\n",
       "│ bidirectional (\u001B[38;5;33mBidirectional\u001B[0m)   │ ?                      │   \u001B[38;5;34m0\u001B[0m (unbuilt) │\n",
       "├─────────────────────────────────┼────────────────────────┼───────────────┤\n",
       "│ dropout (\u001B[38;5;33mDropout\u001B[0m)               │ ?                      │             \u001B[38;5;34m0\u001B[0m │\n",
       "├─────────────────────────────────┼────────────────────────┼───────────────┤\n",
       "│ bidirectional_1 (\u001B[38;5;33mBidirectional\u001B[0m) │ ?                      │   \u001B[38;5;34m0\u001B[0m (unbuilt) │\n",
       "├─────────────────────────────────┼────────────────────────┼───────────────┤\n",
       "│ dropout_1 (\u001B[38;5;33mDropout\u001B[0m)             │ ?                      │             \u001B[38;5;34m0\u001B[0m │\n",
       "├─────────────────────────────────┼────────────────────────┼───────────────┤\n",
       "│ dense (\u001B[38;5;33mDense\u001B[0m)                   │ ?                      │   \u001B[38;5;34m0\u001B[0m (unbuilt) │\n",
       "├─────────────────────────────────┼────────────────────────┼───────────────┤\n",
       "│ dense_1 (\u001B[38;5;33mDense\u001B[0m)                 │ ?                      │   \u001B[38;5;34m0\u001B[0m (unbuilt) │\n",
       "└─────────────────────────────────┴────────────────────────┴───────────────┘\n"
      ],
      "text/html": [
       "<pre style=\"white-space:pre;overflow-x:auto;line-height:normal;font-family:Menlo,'DejaVu Sans Mono',consolas,'Courier New',monospace\">┏━━━━━━━━━━━━━━━━━━━━━━━━━━━━━━━━━┳━━━━━━━━━━━━━━━━━━━━━━━━┳━━━━━━━━━━━━━━━┓\n",
       "┃<span style=\"font-weight: bold\"> Layer (type)                    </span>┃<span style=\"font-weight: bold\"> Output Shape           </span>┃<span style=\"font-weight: bold\">       Param # </span>┃\n",
       "┡━━━━━━━━━━━━━━━━━━━━━━━━━━━━━━━━━╇━━━━━━━━━━━━━━━━━━━━━━━━╇━━━━━━━━━━━━━━━┩\n",
       "│ embedding (<span style=\"color: #0087ff; text-decoration-color: #0087ff\">Embedding</span>)           │ ?                      │       <span style=\"color: #00af00; text-decoration-color: #00af00\">552,000</span> │\n",
       "├─────────────────────────────────┼────────────────────────┼───────────────┤\n",
       "│ bidirectional (<span style=\"color: #0087ff; text-decoration-color: #0087ff\">Bidirectional</span>)   │ ?                      │   <span style=\"color: #00af00; text-decoration-color: #00af00\">0</span> (unbuilt) │\n",
       "├─────────────────────────────────┼────────────────────────┼───────────────┤\n",
       "│ dropout (<span style=\"color: #0087ff; text-decoration-color: #0087ff\">Dropout</span>)               │ ?                      │             <span style=\"color: #00af00; text-decoration-color: #00af00\">0</span> │\n",
       "├─────────────────────────────────┼────────────────────────┼───────────────┤\n",
       "│ bidirectional_1 (<span style=\"color: #0087ff; text-decoration-color: #0087ff\">Bidirectional</span>) │ ?                      │   <span style=\"color: #00af00; text-decoration-color: #00af00\">0</span> (unbuilt) │\n",
       "├─────────────────────────────────┼────────────────────────┼───────────────┤\n",
       "│ dropout_1 (<span style=\"color: #0087ff; text-decoration-color: #0087ff\">Dropout</span>)             │ ?                      │             <span style=\"color: #00af00; text-decoration-color: #00af00\">0</span> │\n",
       "├─────────────────────────────────┼────────────────────────┼───────────────┤\n",
       "│ dense (<span style=\"color: #0087ff; text-decoration-color: #0087ff\">Dense</span>)                   │ ?                      │   <span style=\"color: #00af00; text-decoration-color: #00af00\">0</span> (unbuilt) │\n",
       "├─────────────────────────────────┼────────────────────────┼───────────────┤\n",
       "│ dense_1 (<span style=\"color: #0087ff; text-decoration-color: #0087ff\">Dense</span>)                 │ ?                      │   <span style=\"color: #00af00; text-decoration-color: #00af00\">0</span> (unbuilt) │\n",
       "└─────────────────────────────────┴────────────────────────┴───────────────┘\n",
       "</pre>\n"
      ]
     },
     "metadata": {},
     "output_type": "display_data"
    },
    {
     "data": {
      "text/plain": [
       "\u001B[1m Total params: \u001B[0m\u001B[38;5;34m552,000\u001B[0m (2.11 MB)\n"
      ],
      "text/html": [
       "<pre style=\"white-space:pre;overflow-x:auto;line-height:normal;font-family:Menlo,'DejaVu Sans Mono',consolas,'Courier New',monospace\"><span style=\"font-weight: bold\"> Total params: </span><span style=\"color: #00af00; text-decoration-color: #00af00\">552,000</span> (2.11 MB)\n",
       "</pre>\n"
      ]
     },
     "metadata": {},
     "output_type": "display_data"
    },
    {
     "data": {
      "text/plain": [
       "\u001B[1m Trainable params: \u001B[0m\u001B[38;5;34m552,000\u001B[0m (2.11 MB)\n"
      ],
      "text/html": [
       "<pre style=\"white-space:pre;overflow-x:auto;line-height:normal;font-family:Menlo,'DejaVu Sans Mono',consolas,'Courier New',monospace\"><span style=\"font-weight: bold\"> Trainable params: </span><span style=\"color: #00af00; text-decoration-color: #00af00\">552,000</span> (2.11 MB)\n",
       "</pre>\n"
      ]
     },
     "metadata": {},
     "output_type": "display_data"
    },
    {
     "data": {
      "text/plain": [
       "\u001B[1m Non-trainable params: \u001B[0m\u001B[38;5;34m0\u001B[0m (0.00 B)\n"
      ],
      "text/html": [
       "<pre style=\"white-space:pre;overflow-x:auto;line-height:normal;font-family:Menlo,'DejaVu Sans Mono',consolas,'Courier New',monospace\"><span style=\"font-weight: bold\"> Non-trainable params: </span><span style=\"color: #00af00; text-decoration-color: #00af00\">0</span> (0.00 B)\n",
       "</pre>\n"
      ]
     },
     "metadata": {},
     "output_type": "display_data"
    }
   ],
   "execution_count": 7
  },
  {
   "metadata": {
    "ExecuteTime": {
     "end_time": "2025-03-07T15:42:57.660437Z",
     "start_time": "2025-03-07T15:39:33.293962Z"
    }
   },
   "cell_type": "code",
   "source": [
    "early_stopping = EarlyStopping(monitor='val_accuracy', patience=2, restore_best_weights=True)\n",
    "\n",
    "model.fit(X_train_padded, y_train, validation_data=(X_val_padded, y_val), epochs=100, batch_size=256, callbacks=[early_stopping])"
   ],
   "id": "841694ae335b27db",
   "outputs": [
    {
     "name": "stdout",
     "output_type": "stream",
     "text": [
      "Epoch 1/100\n"
     ]
    },
    {
     "name": "stderr",
     "output_type": "stream",
     "text": [
      "2025-03-07 22:39:34.010425: I tensorflow/core/grappler/optimizers/custom_graph_optimizer_registry.cc:117] Plugin optimizer for device_type GPU is enabled.\n"
     ]
    },
    {
     "name": "stdout",
     "output_type": "stream",
     "text": [
      "\u001B[1m33/33\u001B[0m \u001B[32m━━━━━━━━━━━━━━━━━━━━\u001B[0m\u001B[37m\u001B[0m \u001B[1m15s\u001B[0m 399ms/step - accuracy: 0.2551 - loss: 1.5924 - val_accuracy: 0.2784 - val_loss: 1.5805\n",
      "Epoch 2/100\n",
      "\u001B[1m33/33\u001B[0m \u001B[32m━━━━━━━━━━━━━━━━━━━━\u001B[0m\u001B[37m\u001B[0m \u001B[1m13s\u001B[0m 391ms/step - accuracy: 0.2684 - loss: 1.5801 - val_accuracy: 0.2829 - val_loss: 1.5713\n",
      "Epoch 3/100\n",
      "\u001B[1m33/33\u001B[0m \u001B[32m━━━━━━━━━━━━━━━━━━━━\u001B[0m\u001B[37m\u001B[0m \u001B[1m13s\u001B[0m 391ms/step - accuracy: 0.2720 - loss: 1.5715 - val_accuracy: 0.2942 - val_loss: 1.5656\n",
      "Epoch 4/100\n",
      "\u001B[1m33/33\u001B[0m \u001B[32m━━━━━━━━━━━━━━━━━━━━\u001B[0m\u001B[37m\u001B[0m \u001B[1m16s\u001B[0m 477ms/step - accuracy: 0.2932 - loss: 1.5618 - val_accuracy: 0.3037 - val_loss: 1.5576\n",
      "Epoch 5/100\n",
      "\u001B[1m33/33\u001B[0m \u001B[32m━━━━━━━━━━━━━━━━━━━━\u001B[0m\u001B[37m\u001B[0m \u001B[1m17s\u001B[0m 519ms/step - accuracy: 0.2977 - loss: 1.5497 - val_accuracy: 0.2998 - val_loss: 1.5656\n",
      "Epoch 6/100\n",
      "\u001B[1m33/33\u001B[0m \u001B[32m━━━━━━━━━━━━━━━━━━━━\u001B[0m\u001B[37m\u001B[0m \u001B[1m13s\u001B[0m 394ms/step - accuracy: 0.3126 - loss: 1.5339 - val_accuracy: 0.3110 - val_loss: 1.5450\n",
      "Epoch 7/100\n",
      "\u001B[1m33/33\u001B[0m \u001B[32m━━━━━━━━━━━━━━━━━━━━\u001B[0m\u001B[37m\u001B[0m \u001B[1m13s\u001B[0m 398ms/step - accuracy: 0.3187 - loss: 1.5165 - val_accuracy: 0.3279 - val_loss: 1.5223\n",
      "Epoch 8/100\n",
      "\u001B[1m33/33\u001B[0m \u001B[32m━━━━━━━━━━━━━━━━━━━━\u001B[0m\u001B[37m\u001B[0m \u001B[1m14s\u001B[0m 439ms/step - accuracy: 0.3475 - loss: 1.4822 - val_accuracy: 0.3493 - val_loss: 1.4994\n",
      "Epoch 9/100\n",
      "\u001B[1m33/33\u001B[0m \u001B[32m━━━━━━━━━━━━━━━━━━━━\u001B[0m\u001B[37m\u001B[0m \u001B[1m13s\u001B[0m 409ms/step - accuracy: 0.3671 - loss: 1.4272 - val_accuracy: 0.3386 - val_loss: 1.5083\n",
      "Epoch 10/100\n",
      "\u001B[1m33/33\u001B[0m \u001B[32m━━━━━━━━━━━━━━━━━━━━\u001B[0m\u001B[37m\u001B[0m \u001B[1m13s\u001B[0m 388ms/step - accuracy: 0.4089 - loss: 1.3650 - val_accuracy: 0.3656 - val_loss: 1.4652\n",
      "Epoch 11/100\n",
      "\u001B[1m33/33\u001B[0m \u001B[32m━━━━━━━━━━━━━━━━━━━━\u001B[0m\u001B[37m\u001B[0m \u001B[1m13s\u001B[0m 387ms/step - accuracy: 0.4115 - loss: 1.3449 - val_accuracy: 0.3847 - val_loss: 1.4444\n",
      "Epoch 12/100\n",
      "\u001B[1m33/33\u001B[0m \u001B[32m━━━━━━━━━━━━━━━━━━━━\u001B[0m\u001B[37m\u001B[0m \u001B[1m13s\u001B[0m 391ms/step - accuracy: 0.4566 - loss: 1.2515 - val_accuracy: 0.3864 - val_loss: 1.4205\n",
      "Epoch 13/100\n",
      "\u001B[1m33/33\u001B[0m \u001B[32m━━━━━━━━━━━━━━━━━━━━\u001B[0m\u001B[37m\u001B[0m \u001B[1m13s\u001B[0m 388ms/step - accuracy: 0.4809 - loss: 1.1971 - val_accuracy: 0.3976 - val_loss: 1.4011\n",
      "Epoch 14/100\n",
      "\u001B[1m33/33\u001B[0m \u001B[32m━━━━━━━━━━━━━━━━━━━━\u001B[0m\u001B[37m\u001B[0m \u001B[1m13s\u001B[0m 390ms/step - accuracy: 0.4887 - loss: 1.1857 - val_accuracy: 0.3909 - val_loss: 1.4270\n",
      "Epoch 15/100\n",
      "\u001B[1m33/33\u001B[0m \u001B[32m━━━━━━━━━━━━━━━━━━━━\u001B[0m\u001B[37m\u001B[0m \u001B[1m13s\u001B[0m 391ms/step - accuracy: 0.5203 - loss: 1.1127 - val_accuracy: 0.3948 - val_loss: 1.4789\n"
     ]
    },
    {
     "data": {
      "text/plain": [
       "<keras.src.callbacks.history.History at 0x33bdaf6b0>"
      ]
     },
     "execution_count": 8,
     "metadata": {},
     "output_type": "execute_result"
    }
   ],
   "execution_count": 8
  },
  {
   "metadata": {
    "ExecuteTime": {
     "end_time": "2025-03-07T15:42:59.466894Z",
     "start_time": "2025-03-07T15:42:57.705335Z"
    }
   },
   "cell_type": "code",
   "source": "model.evaluate(X_val_padded, y_val)",
   "id": "81b52f1924e4d09",
   "outputs": [
    {
     "name": "stdout",
     "output_type": "stream",
     "text": [
      "\u001B[1m56/56\u001B[0m \u001B[32m━━━━━━━━━━━━━━━━━━━━\u001B[0m\u001B[37m\u001B[0m \u001B[1m2s\u001B[0m 30ms/step - accuracy: 0.3825 - loss: 1.4058\n"
     ]
    },
    {
     "data": {
      "text/plain": [
       "[1.401124119758606, 0.3976377844810486]"
      ]
     },
     "execution_count": 9,
     "metadata": {},
     "output_type": "execute_result"
    }
   ],
   "execution_count": 9
  },
  {
   "metadata": {
    "ExecuteTime": {
     "end_time": "2025-03-07T15:43:06.100253Z",
     "start_time": "2025-03-07T15:43:06.055892Z"
    }
   },
   "cell_type": "code",
   "source": [
    "import pickle\n",
    "\n",
    "model.save(\"models/lstm-model.keras\")\n",
    "\n",
    "with open(\"models/label_encoder.pkl\", \"wb\") as f:\n",
    "    pickle.dump(label_encoder, f)\n",
    "\n",
    "# save the word index\n",
    "with open(\"models/word_index.pkl\", \"wb\") as f:\n",
    "    pickle.dump(word_index, f)\n",
    "\n",
    "# save the max len\n",
    "with open(\"models/max_len.pkl\", \"wb\") as f:\n",
    "    pickle.dump(max_len, f)"
   ],
   "id": "99d18909c82f6d4e",
   "outputs": [],
   "execution_count": 12
  },
  {
   "metadata": {
    "ExecuteTime": {
     "end_time": "2025-03-07T15:42:59.535044Z",
     "start_time": "2025-03-07T15:42:59.533109Z"
    }
   },
   "cell_type": "code",
   "source": [
    "# model.predict(X_val_padded)\n",
    "print(X_val_padded)"
   ],
   "id": "e1d7f9758fb2dad4",
   "outputs": [
    {
     "name": "stdout",
     "output_type": "stream",
     "text": [
      "[[  35  229   10 ...    0    0    0]\n",
      " [ 667   14 1710 ...    0    0    0]\n",
      " [5426    3   56 ...    0    0    0]\n",
      " ...\n",
      " [  88  716 4902 ...    0    0    0]\n",
      " [   4  565  185 ...    0    0    0]\n",
      " [1085    9    4 ...    0    0    0]]\n"
     ]
    }
   ],
   "execution_count": 11
  },
  {
   "metadata": {
    "ExecuteTime": {
     "end_time": "2025-03-07T15:42:59.544061Z",
     "start_time": "2025-03-07T15:42:59.542835Z"
    }
   },
   "cell_type": "code",
   "source": "",
   "id": "992a954ec7abac21",
   "outputs": [],
   "execution_count": null
  }
 ],
 "metadata": {
  "kernelspec": {
   "name": "python3",
   "language": "python",
   "display_name": "Python 3 (ipykernel)"
  }
 },
 "nbformat": 5,
 "nbformat_minor": 9
}
