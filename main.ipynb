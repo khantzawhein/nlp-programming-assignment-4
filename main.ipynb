{
 "cells": [
  {
   "metadata": {},
   "cell_type": "code",
   "source": [
    "import pandas as pd\n",
    "from gensim.models import Word2Vec\n",
    "from keras.api.preprocessing.sequence import pad_sequences\n",
    "from nltk.tokenize import sent_tokenize, word_tokenize\n",
    "from sklearn.preprocessing import LabelEncoder\n",
    "import numpy as np\n",
    "\n",
    "train_raw = pd.read_csv(\"work-data/train.csv\")\n",
    "test_raw = pd.read_csv(\"work-data/val.csv\")\n",
    "\n",
    "train_raw.head()"
   ],
   "id": "b97db381ec6886d2",
   "outputs": [],
   "execution_count": null
  },
  {
   "metadata": {},
   "cell_type": "code",
   "source": [
    "def tokenize_text(text):\n",
    "    return [\n",
    "        [word.lower() for word in word_tokenize(sentence)] for sentence in sent_tokenize(text)\n",
    "    ]"
   ],
   "id": "87688cfa42f06983",
   "outputs": [],
   "execution_count": null
  },
  {
   "metadata": {},
   "cell_type": "code",
   "source": [
    "train = train_raw.copy()\n",
    "test = test_raw.copy()\n",
    "\n",
    "tokenized_train = [sent for item in train['text'].apply(tokenize_text) for sent in item]\n",
    "tokenized_test = [sent for item in test['text'].apply(tokenize_text) for sent in item]"
   ],
   "id": "d6cafc69257a6f8f",
   "outputs": [],
   "execution_count": null
  },
  {
   "metadata": {},
   "cell_type": "code",
   "source": [
    "word2vec = Word2Vec(sentences=tokenized_train, vector_size=100, window=7, min_count=3, workers=4)\n",
    "word_index = {word: i + 1 for i, word in enumerate(word2vec.wv.index_to_key)}\n",
    "\n",
    "# word_index"
   ],
   "id": "a58a21fb8e86ae57",
   "outputs": [],
   "execution_count": null
  },
  {
   "metadata": {},
   "cell_type": "code",
   "source": [
    "def text_to_seq(text, word_index):\n",
    "    return [word_index[word] for word in word_tokenize(text.lower()) if word in word_index]\n",
    "\n",
    "X_train_seq = [text_to_seq(text, word_index) for text in train['text']]\n",
    "X_val_seq = [text_to_seq(text, word_index) for text in test['text']]\n",
    "\n",
    "max_len = max([len(seq) for seq in X_train_seq + X_val_seq])\n",
    "\n",
    "X_train_padded = pad_sequences(X_train_seq, maxlen=max_len, padding='post')\n",
    "X_val_padded = pad_sequences(X_val_seq, maxlen=max_len, padding='post')\n",
    "\n",
    "label_encoder = LabelEncoder()\n",
    "\n",
    "y_train = label_encoder.fit_transform(train['label'])\n",
    "y_val = label_encoder.transform(test['label'])\n"
   ],
   "id": "aae94fdcfd52c036",
   "outputs": [],
   "execution_count": null
  },
  {
   "metadata": {},
   "cell_type": "code",
   "source": [
    "#Embedding Matrix\n",
    "\n",
    "embedding_matrix = np.zeros((len(word_index) + 1, 100))\n",
    "\n",
    "for word, i in word_index.items():\n",
    "    if word in word2vec.wv:\n",
    "        embedding_matrix[i] = word2vec.wv[word]\n",
    "\n",
    "embedding_matrix\n"
   ],
   "id": "21cfb790fec4f397",
   "outputs": [],
   "execution_count": null
  },
  {
   "metadata": {},
   "cell_type": "code",
   "source": [
    "from keras import Sequential\n",
    "from keras.api.layers import Embedding, LSTM, Dense, Dropout, Bidirectional\n",
    "from keras.api.callbacks import EarlyStopping\n",
    "from keras.api.optimizers import Adam\n",
    "\n",
    "model = Sequential([\n",
    "    Embedding(input_dim=len(word_index) + 1, output_dim=100, weights=[embedding_matrix], trainable=True),\n",
    "    Bidirectional(LSTM(128, return_sequences=True)),\n",
    "    Dropout(0.5),\n",
    "    Bidirectional(LSTM(64)),\n",
    "    Dense(32, activation='relu'),\n",
    "    Dense(5, activation='softmax')\n",
    "])\n",
    "adam = Adam(learning_rate=0.002)\n",
    "model.compile(optimizer=adam, loss='sparse_categorical_crossentropy', metrics=['accuracy'])\n",
    "\n",
    "model.summary()"
   ],
   "id": "207024412e192d7a",
   "outputs": [],
   "execution_count": null
  },
  {
   "metadata": {},
   "cell_type": "code",
   "source": [
    "early_stopping = EarlyStopping(monitor='val_loss', patience=2, restore_best_weights=True)\n",
    "\n",
    "model.fit(X_train_padded, y_train, validation_data=(X_val_padded, y_val), epochs=10, batch_size=128, callbacks=[early_stopping])"
   ],
   "id": "841694ae335b27db",
   "outputs": [],
   "execution_count": null
  },
  {
   "metadata": {},
   "cell_type": "code",
   "source": "model.evaluate(X_val_padded, y_val)",
   "id": "81b52f1924e4d09",
   "outputs": [],
   "execution_count": null
  },
  {
   "metadata": {},
   "cell_type": "code",
   "source": [
    "import pickle\n",
    "\n",
    "model.save(\"models/lstm-model.keras\")\n",
    "\n",
    "with open(\"models/label_encoder.pkl\", \"wb\") as f:\n",
    "    pickle.dump(label_encoder, f)\n",
    "\n",
    "# save the word index\n",
    "with open(\"models/word_index.pkl\", \"wb\") as f:\n",
    "    pickle.dump(word_index, f)\n",
    "\n",
    "# save the max len\n",
    "with open(\"models/max_len.pkl\", \"wb\") as f:\n",
    "    pickle.dump(max_len, f)"
   ],
   "id": "99d18909c82f6d4e",
   "outputs": [],
   "execution_count": null
  },
  {
   "metadata": {},
   "cell_type": "code",
   "source": [
    "# model.predict(X_val_padded)\n",
    "print(X_val_padded)"
   ],
   "id": "e1d7f9758fb2dad4",
   "outputs": [],
   "execution_count": null
  }
 ],
 "metadata": {
  "kernelspec": {
   "name": "python3",
   "language": "python",
   "display_name": "Python 3 (ipykernel)"
  }
 },
 "nbformat": 5,
 "nbformat_minor": 9
}
