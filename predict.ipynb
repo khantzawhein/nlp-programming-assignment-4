{
 "cells": [
  {
   "cell_type": "code",
   "id": "initial_id",
   "metadata": {
    "collapsed": true,
    "jupyter": {
     "is_executing": true
    }
   },
   "source": [
    "import pandas as pd\n",
    "from nltk.tokenize import word_tokenize, sent_tokenize\n",
    "import pickle\n",
    "import numpy as np\n",
    "from keras.api.preprocessing.sequence import pad_sequences\n",
    "test = pd.read_csv(\"work-data/test_nolabel.csv\")"
   ],
   "outputs": [],
   "execution_count": null
  },
  {
   "metadata": {
    "ExecuteTime": {
     "end_time": "2025-03-07T13:48:45.691665Z",
     "start_time": "2025-03-07T13:48:45.689515Z"
    }
   },
   "cell_type": "code",
   "source": [
    "def tokenize_text(text):\n",
    "    return [\n",
    "        [word.lower() for word in word_tokenize(sentence)] for sentence in sent_tokenize(text)\n",
    "    ]\n"
   ],
   "id": "dd91f6d275d5df29",
   "outputs": [],
   "execution_count": 24
  },
  {
   "metadata": {
    "ExecuteTime": {
     "end_time": "2025-03-07T13:48:45.776619Z",
     "start_time": "2025-03-07T13:48:45.719395Z"
    }
   },
   "cell_type": "code",
   "source": [
    "tokenized_test = [sent for item in test['text'].apply(tokenize_text) for sent in item]\n",
    "word_index = pickle.load(open(\"models/word_index.pkl\", \"rb\"))"
   ],
   "id": "a2cda799416e6443",
   "outputs": [],
   "execution_count": 25
  },
  {
   "metadata": {
    "ExecuteTime": {
     "end_time": "2025-03-07T13:48:45.835928Z",
     "start_time": "2025-03-07T13:48:45.782041Z"
    }
   },
   "cell_type": "code",
   "source": [
    "def text_to_seq(text, word_index):\n",
    "    return [word_index[word] for word in word_tokenize(text.lower()) if word in word_index]\n",
    "\n",
    "max_len = pickle.load(open(\"models/max_len.pkl\", \"rb\"))\n",
    "X_test_seq = [text_to_seq(text, word_index) for text in test['text']]\n",
    "X_test_padded = pad_sequences(X_test_seq, maxlen=max_len, padding='post')\n",
    "\n",
    "print(X_test_padded)\n"
   ],
   "id": "a1ea1a1cef9c8b50",
   "outputs": [
    {
     "name": "stdout",
     "output_type": "stream",
     "text": [
      "[[  45   22  134 ...    0    0    0]\n",
      " [  26 1126  709 ...    0    0    0]\n",
      " [4121    9    4 ...    0    0    0]\n",
      " ...\n",
      " [ 384 1558  201 ...    0    0    0]\n",
      " [   3    3    5 ...    0    0    0]\n",
      " [  61    6   10 ...    0    0    0]]\n"
     ]
    }
   ],
   "execution_count": 26
  },
  {
   "metadata": {
    "ExecuteTime": {
     "end_time": "2025-03-07T13:48:47.218722Z",
     "start_time": "2025-03-07T13:48:45.896494Z"
    }
   },
   "cell_type": "code",
   "source": [
    "from keras.api.models import load_model\n",
    "\n",
    "model = load_model(\"models/lstm-model.keras\", compile=False)\n",
    "y_predict = model.predict(X_test_padded)"
   ],
   "id": "dfddfda46f638730",
   "outputs": [
    {
     "name": "stdout",
     "output_type": "stream",
     "text": [
      "\u001B[1m56/56\u001B[0m \u001B[32m━━━━━━━━━━━━━━━━━━━━\u001B[0m\u001B[37m\u001B[0m \u001B[1m1s\u001B[0m 20ms/step\n"
     ]
    }
   ],
   "execution_count": 27
  },
  {
   "metadata": {
    "ExecuteTime": {
     "end_time": "2025-03-07T13:48:47.227776Z",
     "start_time": "2025-03-07T13:48:47.224724Z"
    }
   },
   "cell_type": "code",
   "source": [
    "label = np.argmax(y_predict, axis=-1)\n",
    "\n",
    "label_encoder = pickle.load(open(\"models/label_encoder.pkl\", \"rb\"))\n",
    "\n",
    "test['label'] = label_encoder.inverse_transform(label)\n",
    "\n"
   ],
   "id": "ec99503ee96fac2e",
   "outputs": [],
   "execution_count": 28
  },
  {
   "metadata": {
    "ExecuteTime": {
     "end_time": "2025-03-07T13:48:47.235907Z",
     "start_time": "2025-03-07T13:48:47.233027Z"
    }
   },
   "cell_type": "code",
   "source": "test[['id', 'label']].to_csv(\"work-data/test_label.csv\", index=False)",
   "id": "5646b38e6d9d25a8",
   "outputs": [],
   "execution_count": 29
  }
 ],
 "metadata": {
  "kernelspec": {
   "display_name": "Python 3",
   "language": "python",
   "name": "python3"
  },
  "language_info": {
   "codemirror_mode": {
    "name": "ipython",
    "version": 2
   },
   "file_extension": ".py",
   "mimetype": "text/x-python",
   "name": "python",
   "nbconvert_exporter": "python",
   "pygments_lexer": "ipython2",
   "version": "2.7.6"
  }
 },
 "nbformat": 4,
 "nbformat_minor": 5
}
