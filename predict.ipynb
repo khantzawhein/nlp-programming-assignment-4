{
 "cells": [
  {
   "cell_type": "code",
   "id": "initial_id",
   "metadata": {
    "collapsed": true,
    "ExecuteTime": {
     "end_time": "2025-03-07T15:43:37.161182Z",
     "start_time": "2025-03-07T15:43:34.796544Z"
    }
   },
   "source": [
    "import pandas as pd\n",
    "from nltk.tokenize import word_tokenize, sent_tokenize\n",
    "import pickle\n",
    "import numpy as np\n",
    "from keras.api.preprocessing.sequence import pad_sequences\n",
    "test = pd.read_csv(\"work-data/test_nolabel.csv\")"
   ],
   "outputs": [],
   "execution_count": 1
  },
  {
   "metadata": {
    "ExecuteTime": {
     "end_time": "2025-03-07T15:43:37.165995Z",
     "start_time": "2025-03-07T15:43:37.164356Z"
    }
   },
   "cell_type": "code",
   "source": [
    "def tokenize_text(text):\n",
    "    return [\n",
    "        [word.lower() for word in word_tokenize(sentence)] for sentence in sent_tokenize(text)\n",
    "    ]\n"
   ],
   "id": "dd91f6d275d5df29",
   "outputs": [],
   "execution_count": 2
  },
  {
   "metadata": {
    "ExecuteTime": {
     "end_time": "2025-03-07T15:43:37.274660Z",
     "start_time": "2025-03-07T15:43:37.212644Z"
    }
   },
   "cell_type": "code",
   "source": [
    "tokenized_test = [sent for item in test['text'].apply(tokenize_text) for sent in item]\n",
    "word_index = pickle.load(open(\"models/word_index.pkl\", \"rb\"))"
   ],
   "id": "a2cda799416e6443",
   "outputs": [],
   "execution_count": 3
  },
  {
   "metadata": {
    "ExecuteTime": {
     "end_time": "2025-03-07T15:43:37.333518Z",
     "start_time": "2025-03-07T15:43:37.279937Z"
    }
   },
   "cell_type": "code",
   "source": [
    "def text_to_seq(text, word_index):\n",
    "    return [word_index[word] for word in word_tokenize(text.lower()) if word in word_index]\n",
    "\n",
    "max_len = pickle.load(open(\"models/max_len.pkl\", \"rb\"))\n",
    "X_test_seq = [text_to_seq(text, word_index) for text in test['text']]\n",
    "X_test_padded = pad_sequences(X_test_seq, maxlen=max_len, padding='post')\n",
    "\n",
    "print(X_test_padded)\n"
   ],
   "id": "a1ea1a1cef9c8b50",
   "outputs": [
    {
     "name": "stdout",
     "output_type": "stream",
     "text": [
      "[[  45   22  134 ...    0    0    0]\n",
      " [  26 1126  709 ...    0    0    0]\n",
      " [4121    9    4 ...    0    0    0]\n",
      " ...\n",
      " [ 384 1558  201 ...    0    0    0]\n",
      " [   3    3    5 ...    0    0    0]\n",
      " [  61    6   10 ...    0    0    0]]\n"
     ]
    }
   ],
   "execution_count": 4
  },
  {
   "metadata": {
    "ExecuteTime": {
     "end_time": "2025-03-07T15:43:40.293077Z",
     "start_time": "2025-03-07T15:43:37.349984Z"
    }
   },
   "cell_type": "code",
   "source": [
    "from keras.api.models import load_model\n",
    "\n",
    "model = load_model(\"models/lstm-model.keras\", compile=False)\n",
    "y_predict = model.predict(X_test_padded)"
   ],
   "id": "dfddfda46f638730",
   "outputs": [
    {
     "name": "stderr",
     "output_type": "stream",
     "text": [
      "2025-03-07 22:43:37.353968: I metal_plugin/src/device/metal_device.cc:1154] Metal device set to: Apple M4 Pro\n",
      "2025-03-07 22:43:37.353988: I metal_plugin/src/device/metal_device.cc:296] systemMemory: 24.00 GB\n",
      "2025-03-07 22:43:37.353994: I metal_plugin/src/device/metal_device.cc:313] maxCacheSize: 8.00 GB\n",
      "WARNING: All log messages before absl::InitializeLog() is called are written to STDERR\n",
      "I0000 00:00:1741362217.354006  150800 pluggable_device_factory.cc:305] Could not identify NUMA node of platform GPU ID 0, defaulting to 0. Your kernel may not have been built with NUMA support.\n",
      "I0000 00:00:1741362217.354021  150800 pluggable_device_factory.cc:271] Created TensorFlow device (/job:localhost/replica:0/task:0/device:GPU:0 with 0 MB memory) -> physical PluggableDevice (device: 0, name: METAL, pci bus id: <undefined>)\n",
      "2025-03-07 22:43:38.014899: I tensorflow/core/grappler/optimizers/custom_graph_optimizer_registry.cc:117] Plugin optimizer for device_type GPU is enabled.\n"
     ]
    },
    {
     "name": "stdout",
     "output_type": "stream",
     "text": [
      "\u001B[1m56/56\u001B[0m \u001B[32m━━━━━━━━━━━━━━━━━━━━\u001B[0m\u001B[37m\u001B[0m \u001B[1m2s\u001B[0m 30ms/step\n"
     ]
    }
   ],
   "execution_count": 5
  },
  {
   "metadata": {
    "ExecuteTime": {
     "end_time": "2025-03-07T15:43:40.301154Z",
     "start_time": "2025-03-07T15:43:40.298768Z"
    }
   },
   "cell_type": "code",
   "source": [
    "label = np.argmax(y_predict, axis=-1)\n",
    "\n",
    "label_encoder = pickle.load(open(\"models/label_encoder.pkl\", \"rb\"))\n",
    "\n",
    "test['label'] = label_encoder.inverse_transform(label)\n",
    "\n"
   ],
   "id": "ec99503ee96fac2e",
   "outputs": [],
   "execution_count": 6
  },
  {
   "metadata": {
    "ExecuteTime": {
     "end_time": "2025-03-07T15:43:40.312471Z",
     "start_time": "2025-03-07T15:43:40.307430Z"
    }
   },
   "cell_type": "code",
   "source": "test[['id', 'label']].to_csv(\"work-data/test_label.csv\", index=False)",
   "id": "5646b38e6d9d25a8",
   "outputs": [],
   "execution_count": 7
  }
 ],
 "metadata": {
  "kernelspec": {
   "display_name": "Python 3",
   "language": "python",
   "name": "python3"
  },
  "language_info": {
   "codemirror_mode": {
    "name": "ipython",
    "version": 2
   },
   "file_extension": ".py",
   "mimetype": "text/x-python",
   "name": "python",
   "nbconvert_exporter": "python",
   "pygments_lexer": "ipython2",
   "version": "2.7.6"
  }
 },
 "nbformat": 4,
 "nbformat_minor": 5
}
